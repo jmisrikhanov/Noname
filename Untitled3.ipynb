{
  "nbformat": 4,
  "nbformat_minor": 0,
  "metadata": {
    "colab": {
      "name": "Untitled3.ipynb",
      "provenance": [],
      "authorship_tag": "ABX9TyOzMGh2lq9OjGe00X0fIV1d",
      "include_colab_link": true
    },
    "kernelspec": {
      "name": "python3",
      "display_name": "Python 3"
    },
    "language_info": {
      "name": "python"
    }
  },
  "cells": [
    {
      "cell_type": "markdown",
      "metadata": {
        "id": "view-in-github",
        "colab_type": "text"
      },
      "source": [
        "<a href=\"https://colab.research.google.com/github/jmisrikhanov/Noname/blob/main/Untitled3.ipynb\" target=\"_parent\"><img src=\"https://colab.research.google.com/assets/colab-badge.svg\" alt=\"Open In Colab\"/></a>"
      ]
    },
    {
      "cell_type": "code",
      "metadata": {
        "id": "23TNpjnlW3lq",
        "colab": {
          "base_uri": "https://localhost:8080/"
        },
        "outputId": "18629ad5-5dd8-4cc1-9be0-f52cd55c9449"
      },
      "source": [
        "answer = 'Javid'\n",
        "\n",
        "question = 'What is your name?  '\n",
        "print (\"Let's find the password!\")\n",
        "\n",
        "while True:\n",
        "    guess = str(input(question))\n",
        "\n",
        "    if guess == answer:\n",
        "        print(\"Hello, Joseph! The password is : W@12\")\n",
        "    else: \n",
        "        print(\"Hello, Amina! See you later.\")\n",
        "    break"
      ],
      "execution_count": null,
      "outputs": [
        {
          "output_type": "stream",
          "text": [
            "Let's find the password!\n",
            "What is your name?  Javid\n",
            "Hello, Joseph! The password is : W@12\n"
          ],
          "name": "stdout"
        }
      ]
    },
    {
      "cell_type": "code",
      "metadata": {
        "id": "ZHOyG_06W418"
      },
      "source": [
        ""
      ],
      "execution_count": 1,
      "outputs": []
    }
  ]
}